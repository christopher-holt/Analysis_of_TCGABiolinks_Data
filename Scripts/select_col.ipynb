{
 "cells": [
  {
   "cell_type": "code",
   "execution_count": 1,
   "metadata": {},
   "outputs": [],
   "source": [
    "#!/usr/bin/python3\n",
    "import pandas\n",
    "import os\n",
    "import glob"
   ]
  },
  {
   "cell_type": "code",
   "execution_count": 2,
   "metadata": {},
   "outputs": [],
   "source": [
    "os.chdir(\"../Datasets\")"
   ]
  },
  {
   "cell_type": "code",
   "execution_count": 3,
   "metadata": {},
   "outputs": [
    {
     "data": {
      "text/plain": [
       "['LUAD.csv',\n",
       " 'KIRC.csv',\n",
       " 'LIHC.csv',\n",
       " 'PAAD.csv',\n",
       " 'LUSC.csv',\n",
       " 'HNSC.csv',\n",
       " 'KICH.csv',\n",
       " 'STAD.csv',\n",
       " 'LAML.csv',\n",
       " 'KIRP.csv',\n",
       " 'BLCA.csv',\n",
       " 'ESCA.csv']"
      ]
     },
     "execution_count": 3,
     "metadata": {},
     "output_type": "execute_result"
    }
   ],
   "source": [
    "filenames = (glob.glob(\"*[!_select]*.csv\")) \n",
    "filenames"
   ]
  },
  {
   "cell_type": "code",
   "execution_count": 16,
   "metadata": {},
   "outputs": [
    {
     "ename": "IndexError",
     "evalue": "list index out of range",
     "output_type": "error",
     "traceback": [
      "\u001b[0;31m---------------------------------------------------------------------------\u001b[0m",
      "\u001b[0;31mIndexError\u001b[0m                                Traceback (most recent call last)",
      "\u001b[0;32m<ipython-input-16-1d631622363f>\u001b[0m in \u001b[0;36m<module>\u001b[0;34m\u001b[0m\n\u001b[1;32m      1\u001b[0m \u001b[0;32mfor\u001b[0m \u001b[0mfile\u001b[0m \u001b[0;32min\u001b[0m \u001b[0mrange\u001b[0m\u001b[0;34m(\u001b[0m\u001b[0;36m12\u001b[0m\u001b[0;34m,\u001b[0m\u001b[0;36m13\u001b[0m\u001b[0;34m)\u001b[0m\u001b[0;34m:\u001b[0m\u001b[0;34m\u001b[0m\u001b[0;34m\u001b[0m\u001b[0m\n\u001b[0;32m----> 2\u001b[0;31m     \u001b[0mdf\u001b[0m \u001b[0;34m=\u001b[0m \u001b[0mpandas\u001b[0m\u001b[0;34m.\u001b[0m\u001b[0mread_csv\u001b[0m\u001b[0;34m(\u001b[0m\u001b[0mfilenames\u001b[0m\u001b[0;34m[\u001b[0m\u001b[0mfile\u001b[0m\u001b[0;34m]\u001b[0m\u001b[0;34m,\u001b[0m \u001b[0msep\u001b[0m\u001b[0;34m=\u001b[0m\u001b[0;34m\"\\t\"\u001b[0m\u001b[0;34m,\u001b[0m \u001b[0mlow_memory\u001b[0m \u001b[0;34m=\u001b[0m \u001b[0;32mFalse\u001b[0m\u001b[0;34m)\u001b[0m\u001b[0;34m\u001b[0m\u001b[0;34m\u001b[0m\u001b[0m\n\u001b[0m\u001b[1;32m      3\u001b[0m     df1 = df[[\"tumor_barcode\", \"primary_diagnosis\", \"tumor_stage\", \"gender\", \"ethnicity\", \"race\", \"age_at_diagnosis\", \n\u001b[1;32m      4\u001b[0m                        \u001b[0;34m\"pipeline\"\u001b[0m\u001b[0;34m,\u001b[0m \u001b[0;34m\"Mut_Type\"\u001b[0m\u001b[0;34m,\u001b[0m \u001b[0;34m\"nucChange\"\u001b[0m\u001b[0;34m,\u001b[0m \u001b[0;34m\"hugo_symbol\"\u001b[0m\u001b[0;34m,\u001b[0m \u001b[0;34m\"disease\"\u001b[0m\u001b[0;34m,\u001b[0m \u001b[0;34m\"years_smoked\"\u001b[0m\u001b[0;34m,\u001b[0m \u001b[0;34m\"cigarettes_per_day\"\u001b[0m\u001b[0;34m,\u001b[0m\u001b[0;34m\u001b[0m\u001b[0;34m\u001b[0m\u001b[0m\n\u001b[1;32m      5\u001b[0m                        \u001b[0;34m\"chromosome\"\u001b[0m\u001b[0;34m,\u001b[0m \u001b[0;34m\"consequence\"\u001b[0m\u001b[0;34m,\u001b[0m \u001b[0;34m\"one_consequence\"\u001b[0m\u001b[0;34m,\u001b[0m \u001b[0;34m\"gene\"\u001b[0m\u001b[0;34m,\u001b[0m \u001b[0;34m\"exon_number\"\u001b[0m\u001b[0;34m,\u001b[0m \u001b[0;34m\"tissue_or_organ_of_origin\"\u001b[0m\u001b[0;34m,\u001b[0m\u001b[0;34m\u001b[0m\u001b[0;34m\u001b[0m\u001b[0m\n",
      "\u001b[0;31mIndexError\u001b[0m: list index out of range"
     ]
    }
   ],
   "source": [
    "## For system memory purposes, it may be easier to run the script in jupyter and rerun the last cell as range(0,1) then range(1,2) etc through range(11,12) instead\n",
    "## of one big loop\n",
    "for file in range(len(filenames)):\n",
    "    df = pandas.read_csv(filenames[file], sep=\"\\t\", low_memory = False)\n",
    "    df1 = df[[\"tumor_barcode\", \"primary_diagnosis\", \"tumor_stage\", \"gender\", \"ethnicity\", \"race\", \"age_at_diagnosis\", \n",
    "                       \"pipeline\", \"Mut_Type\", \"nucChange\", \"hugo_symbol\", \"disease\", \"years_smoked\", \"cigarettes_per_day\",\n",
    "                       \"chromosome\", \"consequence\", \"one_consequence\", \"gene\", \"exon_number\", \"tissue_or_organ_of_origin\",\n",
    "                       \"variant_classification\", \"mutation_status\"]]\n",
    "    \n",
    "    file_title = str(df.disease[2]+\"_select.csv\")\n",
    "    df1.to_csv(file_title, sep = \"\\t\")"
   ]
  }
 ],
 "metadata": {
  "kernelspec": {
   "display_name": "Python 3",
   "language": "python",
   "name": "python3"
  },
  "language_info": {
   "codemirror_mode": {
    "name": "ipython",
    "version": 3
   },
   "file_extension": ".py",
   "mimetype": "text/x-python",
   "name": "python",
   "nbconvert_exporter": "python",
   "pygments_lexer": "ipython3",
   "version": "3.6.7"
  }
 },
 "nbformat": 4,
 "nbformat_minor": 2
}
